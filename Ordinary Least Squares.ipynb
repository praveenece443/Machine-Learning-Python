{
 "cells": [
  {
   "cell_type": "markdown",
   "id": "f18c0c66",
   "metadata": {},
   "source": [
    "### Basic Ordonary Least Squares Regression with Lists"
   ]
  },
  {
   "cell_type": "code",
   "execution_count": 1,
   "id": "93f6c03d",
   "metadata": {},
   "outputs": [],
   "source": [
    "import matplotlib.pyplot as plt\n",
    "import statsmodels.api as sm\n",
    "import numpy as np"
   ]
  },
  {
   "cell_type": "code",
   "execution_count": 2,
   "id": "ede7afc7",
   "metadata": {},
   "outputs": [],
   "source": [
    "x = [1,2,3,4,5,6,7,8,9,10,11,12]\n",
    "y = [1,4,9,16,25,36,49,64,81,100,121,144]"
   ]
  },
  {
   "cell_type": "code",
   "execution_count": 3,
   "id": "3dec95a3",
   "metadata": {},
   "outputs": [],
   "source": [
    "xprime = sm.add_constant(x) "
   ]
  },
  {
   "cell_type": "code",
   "execution_count": 4,
   "id": "eb41c31a",
   "metadata": {},
   "outputs": [],
   "source": [
    "model = sm.OLS(y,xprime)\n",
    "regression = model.fit()"
   ]
  },
  {
   "cell_type": "code",
   "execution_count": 5,
   "id": "691530d2",
   "metadata": {},
   "outputs": [
    {
     "name": "stdout",
     "output_type": "stream",
     "text": [
      "                            OLS Regression Results                            \n",
      "==============================================================================\n",
      "Dep. Variable:                      y   R-squared:                       0.948\n",
      "Model:                            OLS   Adj. R-squared:                  0.942\n",
      "Method:                 Least Squares   F-statistic:                     181.1\n",
      "Date:                Sun, 28 Nov 2021   Prob (F-statistic):           9.88e-08\n",
      "Time:                        16:58:13   Log-Likelihood:                -45.296\n",
      "No. Observations:                  12   AIC:                             94.59\n",
      "Df Residuals:                      10   BIC:                             95.56\n",
      "Df Model:                           1                                         \n",
      "Covariance Type:            nonrobust                                         \n",
      "==============================================================================\n",
      "                 coef    std err          t      P>|t|      [0.025      0.975]\n",
      "------------------------------------------------------------------------------\n",
      "const        -30.3333      7.110     -4.266      0.002     -46.176     -14.491\n",
      "x1            13.0000      0.966     13.456      0.000      10.847      15.153\n",
      "==============================================================================\n",
      "Omnibus:                        1.698   Durbin-Watson:                   0.330\n",
      "Prob(Omnibus):                  0.428   Jarque-Bera (JB):                1.200\n",
      "Skew:                           0.578   Prob(JB):                        0.549\n",
      "Kurtosis:                       1.968   Cond. No.                         15.9\n",
      "==============================================================================\n",
      "\n",
      "Notes:\n",
      "[1] Standard Errors assume that the covariance matrix of the errors is correctly specified.\n"
     ]
    },
    {
     "name": "stderr",
     "output_type": "stream",
     "text": [
      "C:\\ProgramData\\Anaconda3\\lib\\site-packages\\scipy\\stats\\stats.py:1541: UserWarning: kurtosistest only valid for n>=20 ... continuing anyway, n=12\n",
      "  warnings.warn(\"kurtosistest only valid for n>=20 ... continuing \"\n"
     ]
    }
   ],
   "source": [
    "print(regression.summary())"
   ]
  },
  {
   "cell_type": "code",
   "execution_count": 6,
   "id": "61e89b75",
   "metadata": {},
   "outputs": [
    {
     "data": {
      "text/plain": [
       "array([-30.33333333,  13.        ])"
      ]
     },
     "execution_count": 6,
     "metadata": {},
     "output_type": "execute_result"
    }
   ],
   "source": [
    "regression.params"
   ]
  },
  {
   "cell_type": "code",
   "execution_count": 7,
   "id": "b52463ee",
   "metadata": {},
   "outputs": [],
   "source": [
    "y_pred = regression.predict(xprime)"
   ]
  },
  {
   "cell_type": "code",
   "execution_count": 8,
   "id": "61eb1995",
   "metadata": {},
   "outputs": [],
   "source": [
    "coef = regression.params[1]     \n",
    "const = regression.params[0]\n",
    "y_pred = model.predict(params=[const, coef], exog=xprime)"
   ]
  },
  {
   "cell_type": "code",
   "execution_count": 9,
   "id": "d463a449",
   "metadata": {},
   "outputs": [
    {
     "data": {
      "image/png": "[encoded data removed]",
      "text/plain": [
       "<Figure size 432x288 with 1 Axes>"
      ]
     },
     "metadata": {
      "needs_background": "light"
     },
     "output_type": "display_data"
    }
   ],
   "source": [
    "plt.scatter(x, y)\n",
    "plt.plot(xprime, y_pred)\n",
    "plt.show() "
   ]
  },
  {
   "cell_type": "code",
   "execution_count": 10,
   "id": "15979b61",
   "metadata": {},
   "outputs": [
    {
     "name": "stdout",
     "output_type": "stream",
     "text": [
      "169\n"
     ]
    }
   ],
   "source": [
    "#Predict with a new value z = 10\n",
    "z = [1, 13] \n",
    "#zpred = regression.predict(z)\n",
    "zpred = model.predict(params=[const, coef], exog=13)\n",
    "print(int(zpred[1]))"
   ]
  },
  {
   "cell_type": "markdown",
   "id": "ddfedf78",
   "metadata": {},
   "source": [
    "### OLS Regression using Pandas"
   ]
  },
  {
   "cell_type": "code",
   "execution_count": 11,
   "id": "aa89ad17",
   "metadata": {},
   "outputs": [],
   "source": [
    "import numpy as np\n",
    "import matplotlib.pyplot as plt\n",
    "import pandas as pd\n",
    "import statsmodels.api as sm"
   ]
  },
  {
   "cell_type": "code",
   "execution_count": 12,
   "id": "03aaca95",
   "metadata": {},
   "outputs": [],
   "source": [
    "data = pd.read_csv('datasets/lr_data.csv')\n",
    "\n",
    "x = data.iloc[:, 0].values \n",
    "y = data.iloc[:, 1].values \n",
    "\n",
    "xprime = sm.add_constant(x)\n",
    "model = sm.OLS(y,xprime)\n",
    "regression = model.fit()"
   ]
  },
  {
   "cell_type": "code",
   "execution_count": 13,
   "id": "f6b0c202",
   "metadata": {},
   "outputs": [],
   "source": [
    "y_pred = regression.predict(xprime)"
   ]
  },
  {
   "cell_type": "code",
   "execution_count": 14,
   "id": "fa33c66c",
   "metadata": {},
   "outputs": [],
   "source": [
    "coef = regression.params[1]     \n",
    "const = regression.params[0]\n",
    "y_pred = model.predict(params=[const, coef], exog=xprime)"
   ]
  },
  {
   "cell_type": "code",
   "execution_count": 15,
   "id": "257b0459",
   "metadata": {},
   "outputs": [
    {
     "data": {
      "image/png": "[encoded data removed]",
      "text/plain": [
       "<Figure size 432x288 with 1 Axes>"
      ]
     },
     "metadata": {
      "needs_background": "light"
     },
     "output_type": "display_data"
    }
   ],
   "source": [
    "plt.scatter(x,y)\n",
    "plt.plot(xprime, y_pred, color='red')\n",
    "plt.show()"
   ]
  },
  {
   "cell_type": "markdown",
   "id": "d6c725ec",
   "metadata": {},
   "source": [
    "### OLS on Images"
   ]
  },
  {
   "cell_type": "code",
   "execution_count": 16,
   "id": "04839bce",
   "metadata": {},
   "outputs": [],
   "source": [
    "import os, cv2\n",
    "import numpy as np\n",
    "import random, shutil\n",
    "from tqdm import tqdm\n",
    "import matplotlib.pyplot as plt\n",
    "import statsmodels.api as sm"
   ]
  },
  {
   "cell_type": "code",
   "execution_count": 17,
   "id": "9e021514",
   "metadata": {},
   "outputs": [
    {
     "name": "stderr",
     "output_type": "stream",
     "text": [
      "100%|███████████████████████████████████████████████████████████████████████████████| 200/200 [00:00<00:00, 709.31it/s]\n",
      "100%|███████████████████████████████████████████████████████████████████████████████| 200/200 [00:00<00:00, 664.45it/s]\n"
     ]
    }
   ],
   "source": [
    "data = []\n",
    "labels = []\n",
    "path1 = \"datasets/dogs-vs-cats/cats/\"\n",
    "random.shuffle(os.listdir(path1))\n",
    "for imagepaths in tqdm(os.listdir(path1)[:200]):\n",
    "    imagepath = path1 + imagepaths\n",
    "    image = cv2.imread(imagepath)\n",
    "    image = cv2.cvtColor(image, cv2.COLOR_BGR2GRAY)\n",
    "    image = cv2.resize(image,(64,64)).flatten()\n",
    "    data.append(image)\n",
    "    labels.append(0) \n",
    "\n",
    "path2 = \"datasets/dogs-vs-cats/dogs/\"\n",
    "random.shuffle(os.listdir(path2))\n",
    "for imagepaths in tqdm(os.listdir(path2)[:200]):\n",
    "    imagepath = path2 + imagepaths\n",
    "    image = cv2.imread(imagepath)\n",
    "    image = cv2.cvtColor(image, cv2.COLOR_BGR2GRAY)\n",
    "    image = cv2.resize(image,(64,64)).flatten()\n",
    "    data.append(image)\n",
    "    labels.append(1) "
   ]
  },
  {
   "cell_type": "code",
   "execution_count": 18,
   "id": "d979386a",
   "metadata": {},
   "outputs": [
    {
     "name": "stdout",
     "output_type": "stream",
     "text": [
      "No. of Cat Images : 200\n",
      "No. of Dog Images : 200\n"
     ]
    }
   ],
   "source": [
    "print(f\"No. of Cat Images : {sum(labels)}\")\n",
    "print(f\"No. of Dog Images : {len(labels) - sum(labels)}\")"
   ]
  },
  {
   "cell_type": "code",
   "execution_count": 19,
   "id": "d5186cad",
   "metadata": {},
   "outputs": [],
   "source": [
    "xprime = sm.add_constant(data)\n",
    "model = sm.OLS(labels,xprime)\n",
    "regression = model.fit()\n",
    "#print(regression.summary())\n",
    "x_pred = np.linspace(1, 400, 4096)\n",
    "x_pred = x_pred.reshape(1,4096,1)\n",
    "\n",
    "y_pred = regression.predict(xprime)\n",
    "coef = regression.params[1:]\n",
    "const = regression.params[0]\n",
    "\n",
    "y_pred = model.predict(params=[coef], exog=x_pred)[0]"
   ]
  },
  {
   "cell_type": "code",
   "execution_count": 20,
   "id": "168ec6f4",
   "metadata": {},
   "outputs": [
    {
     "data": {
      "text/plain": [
       "Text(0.5, 1.0, 'Cat')"
      ]
     },
     "execution_count": 20,
     "metadata": {},
     "output_type": "execute_result"
    },
    {
     "data": {
      "image/png": "[encoded data removed]",
      "text/plain": [
       "<Figure size 432x288 with 2 Axes>"
      ]
     },
     "metadata": {
      "needs_background": "light"
     },
     "output_type": "display_data"
    }
   ],
   "source": [
    "import matplotlib.pyplot as plt\n",
    "\n",
    "\n",
    "image1 = cv2.imread(\"datasets/dogs-vs-cats/dogs/dog.1.jpg\")\n",
    "image1 = cv2.cvtColor(image1, cv2.COLOR_BGR2GRAY)\n",
    "image1 = cv2.resize(image1,(64,64)).flatten()\n",
    "image11 = np.expand_dims(image1, axis=0)\n",
    "image11 = np.array(image11)\n",
    "xprime1 = sm.add_constant(image11, has_constant='add')\n",
    "xprime1 = xprime1.reshape(1,4097,1)\n",
    "y_pred1 = model.predict(params=[coef], exog=xprime1)[0]\n",
    "z1 = np.argmax(y_pred1)*pow(10,-7)\n",
    "label1 = 'Cat'\n",
    "if z1 > 0.4:\n",
    "    label1 = 'Dog'\n",
    "    \n",
    "image2 = cv2.imread(\"datasets/dogs-vs-cats/cats/cat.1.jpg\")\n",
    "image2 = cv2.cvtColor(image2, cv2.COLOR_BGR2GRAY)\n",
    "image2 = cv2.resize(image2,(64,64)).flatten()\n",
    "image21 = np.expand_dims(image2, axis=0)\n",
    "image21 = np.array(image21)\n",
    "xprime1 = sm.add_constant(image21, has_constant='add')\n",
    "xprime1 = xprime1.reshape(1,4097,1)\n",
    "y_pred2 = model.predict(params=[coef], exog=xprime1)[0]\n",
    "z2 = np.argmax(y_pred2)*pow(10,-7)\n",
    "label2 = 'Cat'\n",
    "if z2 > 0.4:\n",
    "    label2 = 'Dog'\n",
    "\n",
    "image1 = image1.reshape(64,64)\n",
    "image2 = image2.reshape(64,64)\n",
    "fig = plt.figure()\n",
    "ax = fig.add_subplot(1, 2, 1)\n",
    "plt.imshow(image1)\n",
    "ax.set_title(label1)\n",
    "\n",
    "ax = fig.add_subplot(1, 2, 2)\n",
    "plt.imshow(image2)\n",
    "ax.set_title(label2)"
   ]
  },
  {
   "cell_type": "markdown",
   "id": "4d39e6d5",
   "metadata": {},
   "source": [
    "### OLS for NLP"
   ]
  },
  {
   "cell_type": "code",
   "execution_count": 21,
   "id": "be1cb44a",
   "metadata": {},
   "outputs": [],
   "source": [
    "import os,re\n",
    "import numpy as np\n",
    "from tqdm import tqdm\n",
    "import pandas as pd\n",
    "import statsmodels.api as sm"
   ]
  },
  {
   "cell_type": "code",
   "execution_count": 22,
   "id": "6df1907c",
   "metadata": {},
   "outputs": [
    {
     "data": {
      "text/html": [
       "<div>\n",
       "<style scoped>\n",
       "    .dataframe tbody tr th:only-of-type {\n",
       "        vertical-align: middle;\n",
       "    }\n",
       "\n",
       "    .dataframe tbody tr th {\n",
       "        vertical-align: top;\n",
       "    }\n",
       "\n",
       "    .dataframe thead th {\n",
       "        text-align: right;\n",
       "    }\n",
       "</style>\n",
       "<table border=\"1\" class=\"dataframe\">\n",
       "  <thead>\n",
       "    <tr style=\"text-align: right;\">\n",
       "      <th></th>\n",
       "      <th>Reviews</th>\n",
       "      <th>Sentiment</th>\n",
       "    </tr>\n",
       "  </thead>\n",
       "  <tbody>\n",
       "    <tr>\n",
       "      <th>0</th>\n",
       "      <td>When I first tuned in on this morning news, I ...</td>\n",
       "      <td>negative</td>\n",
       "    </tr>\n",
       "    <tr>\n",
       "      <th>1</th>\n",
       "      <td>Mere thoughts of \"Going Overboard\" (aka \"Babes...</td>\n",
       "      <td>negative</td>\n",
       "    </tr>\n",
       "    <tr>\n",
       "      <th>2</th>\n",
       "      <td>Why does this movie fall WELL below standards?...</td>\n",
       "      <td>negative</td>\n",
       "    </tr>\n",
       "    <tr>\n",
       "      <th>3</th>\n",
       "      <td>Wow and I thought that any Steven Segal movie ...</td>\n",
       "      <td>negative</td>\n",
       "    </tr>\n",
       "    <tr>\n",
       "      <th>4</th>\n",
       "      <td>The story is seen before, but that does'n matt...</td>\n",
       "      <td>negative</td>\n",
       "    </tr>\n",
       "  </tbody>\n",
       "</table>\n",
       "</div>"
      ],
      "text/plain": [
       "                                             Reviews Sentiment\n",
       "0  When I first tuned in on this morning news, I ...  negative\n",
       "1  Mere thoughts of \"Going Overboard\" (aka \"Babes...  negative\n",
       "2  Why does this movie fall WELL below standards?...  negative\n",
       "3  Wow and I thought that any Steven Segal movie ...  negative\n",
       "4  The story is seen before, but that does'n matt...  negative"
      ]
     },
     "execution_count": 22,
     "metadata": {},
     "output_type": "execute_result"
    }
   ],
   "source": [
    "df = pd.read_excel(\"datasets/movie_review.xlsx\")\n",
    "df.head()"
   ]
  },
  {
   "cell_type": "code",
   "execution_count": 23,
   "id": "25ea9282",
   "metadata": {},
   "outputs": [],
   "source": [
    "X = df[\"Reviews\"][:1200]\n",
    "y = df[\"Sentiment\"][:1200]"
   ]
  },
  {
   "cell_type": "code",
   "execution_count": 24,
   "id": "fc913912",
   "metadata": {},
   "outputs": [],
   "source": [
    "from sklearn.preprocessing import LabelEncoder\n",
    "le = LabelEncoder()\n",
    "y = le.fit_transform(y)"
   ]
  },
  {
   "cell_type": "code",
   "execution_count": 25,
   "id": "e1e51f98",
   "metadata": {},
   "outputs": [
    {
     "name": "stdout",
     "output_type": "stream",
     "text": [
      "No. of Positive Reviews : 611\n",
      "No. of Negative Reviews : 589\n"
     ]
    }
   ],
   "source": [
    "print(f\"No. of Positive Reviews : {sum(y)}\")\n",
    "print(f\"No. of Negative Reviews : {len(y) - sum(y)}\")"
   ]
  },
  {
   "cell_type": "code",
   "execution_count": 26,
   "id": "c62c224e",
   "metadata": {},
   "outputs": [
    {
     "name": "stderr",
     "output_type": "stream",
     "text": [
      "<ipython-input-26-5e91e33c57df>:4: FutureWarning: Possible nested set at position 1\n",
      "  text = re.sub(r'[[]]', ' ', text)\n"
     ]
    }
   ],
   "source": [
    "data_list = []\n",
    "for text in X:\n",
    "        text = re.sub(r'[!@#$(),n\"%^*?:;~`0-9]', ' ', text)\n",
    "        text = re.sub(r'[[]]', ' ', text)\n",
    "        text = text.lower()\n",
    "        data_list.append(text)"
   ]
  },
  {
   "cell_type": "code",
   "execution_count": 27,
   "id": "72336e53",
   "metadata": {},
   "outputs": [
    {
     "data": {
      "text/plain": [
       "(1200, 16707)"
      ]
     },
     "execution_count": 27,
     "metadata": {},
     "output_type": "execute_result"
    }
   ],
   "source": [
    "from sklearn.feature_extraction.text import CountVectorizer\n",
    "\n",
    "cv = CountVectorizer()\n",
    "X = cv.fit_transform(data_list).toarray()\n",
    "X.shape "
   ]
  },
  {
   "cell_type": "code",
   "execution_count": 28,
   "id": "a0866a1d",
   "metadata": {},
   "outputs": [],
   "source": [
    "xprime = sm.add_constant(X)\n",
    "model = sm.OLS(y,xprime)\n",
    "regression = model.fit()"
   ]
  },
  {
   "cell_type": "code",
   "execution_count": 29,
   "id": "b9b12411",
   "metadata": {},
   "outputs": [],
   "source": [
    "x_pred = np.linspace(1, 1200, 16707)\n",
    "x_pred = x_pred.reshape(1,16707,1)\n",
    "\n",
    "y_pred = regression.predict(xprime)\n",
    "coef = regression.params\n",
    "\n",
    "y_pred = model.predict(params=[coef], exog=x_pred)[0]"
   ]
  },
  {
   "cell_type": "code",
   "execution_count": 30,
   "id": "288690f2",
   "metadata": {},
   "outputs": [],
   "source": [
    "def text_pred(text):\n",
    "    text = cv.transform([text]).toarray()\n",
    "    xprime = sm.add_constant(text)\n",
    "    xprime = xprime.reshape(1,16707,1)\n",
    "    preds = model.predict(params=[coef], exog=xprime)[0]\n",
    "    z2 = np.argmax(preds)*pow(10,-8)\n",
    "    label = 'Negative'\n",
    "    if z2 > 0.5:\n",
    "        label = 'Positive'\n",
    "    return label"
   ]
  },
  {
   "cell_type": "code",
   "execution_count": 31,
   "id": "6b3f25af",
   "metadata": {},
   "outputs": [
    {
     "data": {
      "text/plain": [
       "'Negative'"
      ]
     },
     "execution_count": 31,
     "metadata": {},
     "output_type": "execute_result"
    }
   ],
   "source": [
    "text_pred(\"This movie sucks and the plot twist was already known\")"
   ]
  },
  {
   "cell_type": "code",
   "execution_count": 32,
   "id": "8e7954b1",
   "metadata": {},
   "outputs": [
    {
     "data": {
      "text/plain": [
       "'Positive'"
      ]
     },
     "execution_count": 32,
     "metadata": {},
     "output_type": "execute_result"
    }
   ],
   "source": [
    "text_pred(\"Wow, It is an excellent movie i never saw till date\")"
   ]
  },
  {
   "cell_type": "code",
   "execution_count": null,
   "id": "ad372be0",
   "metadata": {},
   "outputs": [],
   "source": []
  }
 ],
 "metadata": {
  "kernelspec": {
   "display_name": "Python 3",
   "language": "python",
   "name": "python3"
  },
  "language_info": {
   "codemirror_mode": {
    "name": "ipython",
    "version": 3
   },
   "file_extension": ".py",
   "mimetype": "text/x-python",
   "name": "python",
   "nbconvert_exporter": "python",
   "pygments_lexer": "ipython3",
   "version": "3.8.8"
  }
 },
 "nbformat": 4,
 "nbformat_minor": 5
}
