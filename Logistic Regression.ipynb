{
 "cells": [
  {
   "cell_type": "markdown",
   "id": "f18c0c66",
   "metadata": {},
   "source": [
    "### Basic Logistic Regression with Lists"
   ]
  },
  {
   "cell_type": "code",
   "execution_count": 1,
   "id": "93f6c03d",
   "metadata": {},
   "outputs": [],
   "source": [
    "import matplotlib.pyplot as plt\n",
    "from sklearn.linear_model import LogisticRegression"
   ]
  },
  {
   "cell_type": "code",
   "execution_count": 2,
   "id": "ede7afc7",
   "metadata": {},
   "outputs": [],
   "source": [
    "x = [[1],[2],[3],[4],[5],[6],[7],[8],[9],[10]]\n",
    "y = [[0],[1],[0],[1],[0],[1],[0],[1],[0],[1]]"
   ]
  },
  {
   "cell_type": "code",
   "execution_count": 3,
   "id": "eb41c31a",
   "metadata": {},
   "outputs": [
    {
     "name": "stderr",
     "output_type": "stream",
     "text": [
      "C:\\ProgramData\\Anaconda3\\lib\\site-packages\\sklearn\\utils\\validation.py:72: DataConversionWarning: A column-vector y was passed when a 1d array was expected. Please change the shape of y to (n_samples, ), for example using ravel().\n",
      "  return f(**kwargs)\n"
     ]
    },
    {
     "data": {
      "text/plain": [
       "LogisticRegression(solver='liblinear')"
      ]
     },
     "execution_count": 3,
     "metadata": {},
     "output_type": "execute_result"
    }
   ],
   "source": [
    "model = LogisticRegression(solver='liblinear')\n",
    "model.fit(x, y)"
   ]
  },
  {
   "cell_type": "code",
   "execution_count": 4,
   "id": "d463a449",
   "metadata": {},
   "outputs": [
    {
     "data": {
      "image/png": "[encoded data removed]",
      "text/plain": [
       "<Figure size 432x288 with 1 Axes>"
      ]
     },
     "metadata": {
      "needs_background": "light"
     },
     "output_type": "display_data"
    }
   ],
   "source": [
    "plt.scatter(x, y)\n",
    "plt.plot(x, model.predict(x))\n",
    "plt.show() "
   ]
  },
  {
   "cell_type": "code",
   "execution_count": 5,
   "id": "15979b61",
   "metadata": {},
   "outputs": [
    {
     "name": "stdout",
     "output_type": "stream",
     "text": [
      "1\n",
      "1\n"
     ]
    }
   ],
   "source": [
    "pred = model.predict([[12]])[0]\n",
    "print(pred) \n",
    "pred = model.predict([[11]])[0]\n",
    "print(pred) "
   ]
  },
  {
   "cell_type": "markdown",
   "id": "ddfedf78",
   "metadata": {},
   "source": [
    "### Bayesian Logistic Regression using Pandas"
   ]
  },
  {
   "cell_type": "code",
   "execution_count": 6,
   "id": "aa89ad17",
   "metadata": {},
   "outputs": [],
   "source": [
    "import numpy as np\n",
    "import matplotlib.pyplot as plt\n",
    "import pandas as pd\n",
    "from sklearn.linear_model import LogisticRegression"
   ]
  },
  {
   "cell_type": "code",
   "execution_count": 7,
   "id": "03aaca95",
   "metadata": {},
   "outputs": [],
   "source": [
    "data = pd.read_csv('datasets/lr_data.csv')\n",
    "\n",
    "X = data.iloc[:, 0].values.reshape(-1, 1) \n",
    "Y = data.iloc[:, 1].values.reshape(-1, 1) \n",
    "Y = [int(y) for y in Y]\n",
    "clf = LogisticRegression(solver='liblinear')\n",
    "clf.fit(X, Y)\n",
    "Y_pred = clf.predict(X)"
   ]
  },
  {
   "cell_type": "code",
   "execution_count": 8,
   "id": "257b0459",
   "metadata": {},
   "outputs": [
    {
     "data": {
      "image/png": "[encoded data removed]",
      "text/plain": [
       "<Figure size 432x288 with 1 Axes>"
      ]
     },
     "metadata": {
      "needs_background": "light"
     },
     "output_type": "display_data"
    }
   ],
   "source": [
    "plt.scatter(X, Y)\n",
    "plt.plot(X, Y_pred, color='red')\n",
    "plt.show()"
   ]
  },
  {
   "cell_type": "markdown",
   "id": "d6c725ec",
   "metadata": {},
   "source": [
    "### Bayesian Logistic Regression on Images"
   ]
  },
  {
   "cell_type": "code",
   "execution_count": 9,
   "id": "04839bce",
   "metadata": {},
   "outputs": [],
   "source": [
    "import os, cv2\n",
    "import numpy as np\n",
    "import random\n",
    "from tqdm import tqdm\n",
    "import matplotlib.pyplot as plt\n",
    "from sklearn.linear_model import LogisticRegression"
   ]
  },
  {
   "cell_type": "code",
   "execution_count": 10,
   "id": "9e021514",
   "metadata": {},
   "outputs": [
    {
     "name": "stderr",
     "output_type": "stream",
     "text": [
      "100%|███████████████████████████████████████████████████████████████████████████████| 300/300 [00:00<00:00, 710.85it/s]\n",
      "100%|███████████████████████████████████████████████████████████████████████████████| 300/300 [00:00<00:00, 627.63it/s]\n"
     ]
    }
   ],
   "source": [
    "data = []\n",
    "labels = []\n",
    "path1 = \"datasets/dogs-vs-cats/cats/\"\n",
    "random.shuffle(os.listdir(path1))\n",
    "for imagepaths in tqdm(os.listdir(path1)[:300]):\n",
    "    imagepath = path1 + imagepaths\n",
    "    image = cv2.imread(imagepath)\n",
    "    #image = cv2.cvtColor(image, cv2.COLOR_BGR2GRAY)\n",
    "    image = cv2.resize(image,(64,64)).flatten()\n",
    "    data.append(image)\n",
    "    labels.append(0) \n",
    "\n",
    "path2 = \"datasets/dogs-vs-cats/dogs/\"\n",
    "random.shuffle(os.listdir(path2))\n",
    "for imagepaths in tqdm(os.listdir(path2)[:300]):\n",
    "    imagepath = path2 + imagepaths\n",
    "    image = cv2.imread(imagepath)\n",
    "    #image = cv2.cvtColor(image, cv2.COLOR_BGR2GRAY)\n",
    "    image = cv2.resize(image,(64,64)).flatten()\n",
    "    data.append(image)\n",
    "    labels.append(1) "
   ]
  },
  {
   "cell_type": "code",
   "execution_count": 11,
   "id": "d5186cad",
   "metadata": {},
   "outputs": [],
   "source": [
    "data = np.array(data)\n",
    "labels = np.array(labels)"
   ]
  },
  {
   "cell_type": "code",
   "execution_count": 12,
   "id": "2b910ea8",
   "metadata": {},
   "outputs": [
    {
     "name": "stdout",
     "output_type": "stream",
     "text": [
      "Length of Dog images are : 300\n",
      "Length of Cat images are : 300\n"
     ]
    }
   ],
   "source": [
    "print(f\"Length of Dog images are : {sum(labels)}\")\n",
    "print(f\"Length of Cat images are : {len(labels) - sum(labels)}\")"
   ]
  },
  {
   "cell_type": "code",
   "execution_count": 13,
   "id": "7727fc2b",
   "metadata": {},
   "outputs": [
    {
     "name": "stdout",
     "output_type": "stream",
     "text": [
      "(420, 12288) (180, 12288) (420,) (180,)\n"
     ]
    }
   ],
   "source": [
    "from sklearn.model_selection import train_test_split\n",
    "\n",
    "xtrain, xtest, ytrain, ytest = train_test_split(data, labels, test_size=0.30, shuffle=True)\n",
    "print(xtrain.shape, xtest.shape, ytrain.shape, ytest.shape)"
   ]
  },
  {
   "cell_type": "code",
   "execution_count": null,
   "id": "90e2aaf8",
   "metadata": {},
   "outputs": [],
   "source": [
    "clf = LogisticRegression(solver='saga')\n",
    "clf.fit(xtrain, ytrain)"
   ]
  },
  {
   "cell_type": "code",
   "execution_count": null,
   "id": "ddf52a07",
   "metadata": {},
   "outputs": [],
   "source": [
    "from sklearn.metrics import accuracy_score\n",
    "\n",
    "ypred = clf.predict(xtest)\n",
    "\n",
    "ypred = (ypred > 0.5)\n",
    "acc = accuracy_score(ytest, ypred)\n",
    "print(acc)"
   ]
  },
  {
   "cell_type": "code",
   "execution_count": null,
   "id": "168ec6f4",
   "metadata": {},
   "outputs": [],
   "source": [
    "import matplotlib.pyplot as plt\n",
    "\n",
    "ypred1 = clf.predict_proba([xtest[0]])[0]\n",
    "print(ypred1)\n",
    "if ypred1[1] > ypred1[0]:\n",
    "    label1 = 'Predicted Label: Dog'\n",
    "else:\n",
    "    label1 = 'Predicted Label: Cat'\n",
    "    \n",
    "ypred2 = clf.predict_proba([xtest[59]])[0]\n",
    "print(ypred2)\n",
    "if ypred2[1] > ypred2[0]:\n",
    "    label2 = 'Predicted Label: Dog'\n",
    "else:\n",
    "    label2 = 'Predicted Label: Cat'\n",
    "\n",
    "image1 = xtest[0].reshape(64,64,3)\n",
    "image2 = xtest[59].reshape(64,64,3)\n",
    "fig = plt.figure()\n",
    "ax = fig.add_subplot(1, 2, 1)\n",
    "plt.imshow(image1)\n",
    "ax.set_title(label1)\n",
    "\n",
    "ax = fig.add_subplot(1, 2, 2)\n",
    "plt.imshow(image2)\n",
    "ax.set_title(label2)"
   ]
  },
  {
   "cell_type": "markdown",
   "id": "4d39e6d5",
   "metadata": {},
   "source": [
    "### Bayesian Logistic Regression for NLP"
   ]
  },
  {
   "cell_type": "code",
   "execution_count": null,
   "id": "be1cb44a",
   "metadata": {},
   "outputs": [],
   "source": [
    "import os,re\n",
    "import numpy as np\n",
    "from tqdm import tqdm\n",
    "import pandas as pd\n",
    "from sklearn.linear_model import LogisticRegression"
   ]
  },
  {
   "cell_type": "code",
   "execution_count": null,
   "id": "6df1907c",
   "metadata": {},
   "outputs": [],
   "source": [
    "df = pd.read_excel(\"datasets/movie_review.xlsx\")\n",
    "df.head()"
   ]
  },
  {
   "cell_type": "code",
   "execution_count": null,
   "id": "25ea9282",
   "metadata": {},
   "outputs": [],
   "source": [
    "X = df[\"Reviews\"][:2500]\n",
    "y = df[\"Sentiment\"][:2500]"
   ]
  },
  {
   "cell_type": "code",
   "execution_count": null,
   "id": "fc913912",
   "metadata": {},
   "outputs": [],
   "source": [
    "from sklearn.preprocessing import LabelEncoder\n",
    "le = LabelEncoder()\n",
    "y = le.fit_transform(y)"
   ]
  },
  {
   "cell_type": "code",
   "execution_count": null,
   "id": "c62c224e",
   "metadata": {},
   "outputs": [],
   "source": [
    "data_list = []\n",
    "for text in X:\n",
    "        text = re.sub(r'[!@#$(),n\"%^*?:;~`0-9]', ' ', text)\n",
    "        text = re.sub(r'[[]]', ' ', text)\n",
    "        text = text.lower()\n",
    "        data_list.append(text)"
   ]
  },
  {
   "cell_type": "code",
   "execution_count": null,
   "id": "72336e53",
   "metadata": {},
   "outputs": [],
   "source": [
    "from sklearn.feature_extraction.text import CountVectorizer\n",
    "\n",
    "cv = CountVectorizer()\n",
    "X = cv.fit_transform(data_list).toarray()\n",
    "X.shape "
   ]
  },
  {
   "cell_type": "code",
   "execution_count": null,
   "id": "2244bdfa",
   "metadata": {},
   "outputs": [],
   "source": [
    "from sklearn.model_selection import train_test_split\n",
    "x_train, x_test, y_train, y_test = train_test_split(X, y, test_size = 0.32, shuffle=True)"
   ]
  },
  {
   "cell_type": "code",
   "execution_count": null,
   "id": "a0866a1d",
   "metadata": {},
   "outputs": [],
   "source": [
    "%%time\n",
    "model = LogisticRegression(solver='liblinear')\n",
    "model.fit(x_train, y_train)"
   ]
  },
  {
   "cell_type": "code",
   "execution_count": null,
   "id": "b9b12411",
   "metadata": {},
   "outputs": [],
   "source": [
    "y_pred = model.predict(x_test)"
   ]
  },
  {
   "cell_type": "code",
   "execution_count": null,
   "id": "2bd1f2b3",
   "metadata": {},
   "outputs": [],
   "source": [
    "from sklearn.metrics import accuracy_score, confusion_matrix, classification_report\n",
    "\n",
    "y_pred = (y_pred > 0.5)\n",
    "ac = accuracy_score(y_test, y_pred)\n",
    "cm = confusion_matrix(y_test, y_pred)\n",
    "\n",
    "print(\"Accuracy is :\",ac)"
   ]
  },
  {
   "cell_type": "code",
   "execution_count": null,
   "id": "288690f2",
   "metadata": {},
   "outputs": [],
   "source": [
    "def text_pred(text):\n",
    "    text = cv.transform([text]).toarray()\n",
    "    pred = model.predict(text)\n",
    "    preds = 0\n",
    "    if pred > 0.5:\n",
    "        preds = 1\n",
    "    print(pred)\n",
    "    label = le.inverse_transform([preds])[0]\n",
    "    return label"
   ]
  },
  {
   "cell_type": "code",
   "execution_count": null,
   "id": "6b3f25af",
   "metadata": {},
   "outputs": [],
   "source": [
    "text_pred(\"This movie sucks and the plot twist was already known\")"
   ]
  },
  {
   "cell_type": "code",
   "execution_count": null,
   "id": "8e7954b1",
   "metadata": {},
   "outputs": [],
   "source": [
    "text_pred(\"Nice movie and the actions are so good\")"
   ]
  },
  {
   "cell_type": "code",
   "execution_count": null,
   "id": "ad372be0",
   "metadata": {},
   "outputs": [],
   "source": []
  },
  {
   "cell_type": "code",
   "execution_count": null,
   "id": "31dd41fc",
   "metadata": {},
   "outputs": [],
   "source": []
  }
 ],
 "metadata": {
  "kernelspec": {
   "display_name": "Python 3",
   "language": "python",
   "name": "python3"
  },
  "language_info": {
   "codemirror_mode": {
    "name": "ipython",
    "version": 3
   },
   "file_extension": ".py",
   "mimetype": "text/x-python",
   "name": "python",
   "nbconvert_exporter": "python",
   "pygments_lexer": "ipython3",
   "version": "3.8.8"
  }
 },
 "nbformat": 4,
 "nbformat_minor": 5
}
