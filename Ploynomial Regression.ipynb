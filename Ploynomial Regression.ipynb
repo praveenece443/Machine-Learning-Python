{
 "cells": [
  {
   "cell_type": "markdown",
   "id": "f18c0c66",
   "metadata": {},
   "source": [
    "### Basic Polynomial Regression with Lists"
   ]
  },
  {
   "cell_type": "code",
   "execution_count": 1,
   "id": "93f6c03d",
   "metadata": {},
   "outputs": [],
   "source": [
    "import matplotlib.pyplot as plt\n",
    "from scipy import stats"
   ]
  },
  {
   "cell_type": "code",
   "execution_count": 2,
   "id": "ede7afc7",
   "metadata": {},
   "outputs": [],
   "source": [
    "x = [[1],[2],[3],[4],[5],[6],[7],[8],[9],[10],[11],[12]]\n",
    "y = [[1],[4],[9],[16],[25],[36],[49],[64],[81],[100],[121],[144]]"
   ]
  },
  {
   "cell_type": "code",
   "execution_count": 3,
   "id": "eb41c31a",
   "metadata": {},
   "outputs": [
    {
     "data": {
      "text/plain": [
       "LinearRegression()"
      ]
     },
     "execution_count": 3,
     "metadata": {},
     "output_type": "execute_result"
    }
   ],
   "source": [
    "from sklearn.preprocessing import PolynomialFeatures\n",
    "from sklearn.linear_model import LinearRegression\n",
    "\n",
    "poly_reg = PolynomialFeatures(degree=2)\n",
    "X_poly = poly_reg.fit_transform(x)\n",
    "lin_reg2 = LinearRegression()\n",
    "lin_reg2.fit(X_poly,y)"
   ]
  },
  {
   "cell_type": "code",
   "execution_count": 4,
   "id": "d463a449",
   "metadata": {},
   "outputs": [
    {
     "data": {
      "image/png": "[encoded data removed]",
      "text/plain": [
       "<Figure size 432x288 with 1 Axes>"
      ]
     },
     "metadata": {
      "needs_background": "light"
     },
     "output_type": "display_data"
    }
   ],
   "source": [
    "plt.scatter(x, y)\n",
    "plt.plot(x, lin_reg2.predict(poly_reg.fit_transform(x)))\n",
    "plt.show() "
   ]
  },
  {
   "cell_type": "code",
   "execution_count": 5,
   "id": "15979b61",
   "metadata": {},
   "outputs": [
    {
     "name": "stdout",
     "output_type": "stream",
     "text": [
      "[169.]\n"
     ]
    }
   ],
   "source": [
    "#Predict with a new value z = 10\n",
    "\n",
    "z = lin_reg2.predict(poly_reg.fit_transform([[13]]))[0]\n",
    "print(z)"
   ]
  },
  {
   "cell_type": "markdown",
   "id": "ddfedf78",
   "metadata": {},
   "source": [
    "### Polynomial Regression using Pandas"
   ]
  },
  {
   "cell_type": "code",
   "execution_count": 6,
   "id": "aa89ad17",
   "metadata": {},
   "outputs": [],
   "source": [
    "import numpy as np\n",
    "import matplotlib.pyplot as plt\n",
    "import pandas as pd\n",
    "from sklearn.linear_model import LinearRegression\n",
    "from sklearn.preprocessing import PolynomialFeatures"
   ]
  },
  {
   "cell_type": "code",
   "execution_count": 7,
   "id": "03aaca95",
   "metadata": {},
   "outputs": [],
   "source": [
    "data = pd.read_csv('datasets/lr_data.csv')\n",
    "\n",
    "X = data.iloc[:, 0].values.reshape(-1, 1) \n",
    "Y = data.iloc[:, 1].values.reshape(-1, 1) \n",
    "\n",
    "poly_reg = PolynomialFeatures(degree=1)\n",
    "X_poly = poly_reg.fit_transform(X)\n",
    "clf = LinearRegression()\n",
    "clf.fit(X_poly, Y)\n",
    "Y_pred = clf.predict(X_poly)"
   ]
  },
  {
   "cell_type": "code",
   "execution_count": 8,
   "id": "257b0459",
   "metadata": {},
   "outputs": [
    {
     "data": {
      "image/png": "[encoded data removed]",
      "text/plain": [
       "<Figure size 432x288 with 1 Axes>"
      ]
     },
     "metadata": {
      "needs_background": "light"
     },
     "output_type": "display_data"
    }
   ],
   "source": [
    "plt.scatter(X, Y)\n",
    "plt.plot(X, Y_pred, color='red')\n",
    "plt.show()"
   ]
  },
  {
   "cell_type": "markdown",
   "id": "d6c725ec",
   "metadata": {},
   "source": [
    "### Polynomial Regression on Images"
   ]
  },
  {
   "cell_type": "code",
   "execution_count": 9,
   "id": "04839bce",
   "metadata": {},
   "outputs": [],
   "source": [
    "import os, cv2\n",
    "import numpy as np\n",
    "import random, shutil\n",
    "from tqdm import tqdm\n",
    "import matplotlib.pyplot as plt\n",
    "from sklearn.linear_model import LinearRegression\n",
    "from sklearn.preprocessing import PolynomialFeatures"
   ]
  },
  {
   "cell_type": "code",
   "execution_count": 10,
   "id": "9e021514",
   "metadata": {},
   "outputs": [
    {
     "name": "stderr",
     "output_type": "stream",
     "text": [
      "100%|███████████████████████████████████████████████████████████████████████████████| 200/200 [00:00<00:00, 696.86it/s]\n",
      "100%|███████████████████████████████████████████████████████████████████████████████| 200/200 [00:00<00:00, 657.87it/s]\n"
     ]
    }
   ],
   "source": [
    "data = []\n",
    "labels = []\n",
    "path1 = \"datasets/dogs-vs-cats/cats/\"\n",
    "random.shuffle(os.listdir(path1))\n",
    "for imagepaths in tqdm(os.listdir(path1)[:200]):\n",
    "    imagepath = path1 + imagepaths\n",
    "    image = cv2.imread(imagepath)\n",
    "    image = cv2.cvtColor(image, cv2.COLOR_BGR2GRAY)\n",
    "    image = cv2.resize(image,(64,64)).flatten()\n",
    "    data.append(image)\n",
    "    labels.append(0) \n",
    "\n",
    "path2 = \"datasets/dogs-vs-cats/dogs/\"\n",
    "random.shuffle(os.listdir(path2))\n",
    "for imagepaths in tqdm(os.listdir(path2)[:200]):\n",
    "    imagepath = path2 + imagepaths\n",
    "    image = cv2.imread(imagepath)\n",
    "    image = cv2.cvtColor(image, cv2.COLOR_BGR2GRAY)\n",
    "    image = cv2.resize(image,(64,64)).flatten()\n",
    "    data.append(image)\n",
    "    labels.append(1) "
   ]
  },
  {
   "cell_type": "code",
   "execution_count": 11,
   "id": "d5186cad",
   "metadata": {},
   "outputs": [],
   "source": [
    "poly_reg = PolynomialFeatures(degree=1)\n",
    "data = poly_reg.fit_transform(data)\n",
    "\n",
    "data = np.array(data)\n",
    "labels = np.array(labels)"
   ]
  },
  {
   "cell_type": "code",
   "execution_count": 12,
   "id": "4f4bb14e",
   "metadata": {},
   "outputs": [
    {
     "name": "stdout",
     "output_type": "stream",
     "text": [
      "[0 0 0 0 0 0 0 0 0 0 0 0 0 0 0 0 0 0 0 0 0 0 0 0 0 0 0 0 0 0 0 0 0 0 0 0 0\n",
      " 0 0 0 0 0 0 0 0 0 0 0 0 0 0 0 0 0 0 0 0 0 0 0 0 0 0 0 0 0 0 0 0 0 0 0 0 0\n",
      " 0 0 0 0 0 0 0 0 0 0 0 0 0 0 0 0 0 0 0 0 0 0 0 0 0 0 0 0 0 0 0 0 0 0 0 0 0\n",
      " 0 0 0 0 0 0 0 0 0 0 0 0 0 0 0 0 0 0 0 0 0 0 0 0 0 0 0 0 0 0 0 0 0 0 0 0 0\n",
      " 0 0 0 0 0 0 0 0 0 0 0 0 0 0 0 0 0 0 0 0 0 0 0 0 0 0 0 0 0 0 0 0 0 0 0 0 0\n",
      " 0 0 0 0 0 0 0 0 0 0 0 0 0 0 0 1 1 1 1 1 1 1 1 1 1 1 1 1 1 1 1 1 1 1 1 1 1\n",
      " 1 1 1 1 1 1 1 1 1 1 1 1 1 1 1 1 1 1 1 1 1 1 1 1 1 1 1 1 1 1 1 1 1 1 1 1 1\n",
      " 1 1 1 1 1 1 1 1 1 1 1 1 1 1 1 1 1 1 1 1 1 1 1 1 1 1 1 1 1 1 1 1 1 1 1 1 1\n",
      " 1 1 1 1 1 1 1 1 1 1 1 1 1 1 1 1 1 1 1 1 1 1 1 1 1 1 1 1 1 1 1 1 1 1 1 1 1\n",
      " 1 1 1 1 1 1 1 1 1 1 1 1 1 1 1 1 1 1 1 1 1 1 1 1 1 1 1 1 1 1 1 1 1 1 1 1 1\n",
      " 1 1 1 1 1 1 1 1 1 1 1 1 1 1 1 1 1 1 1 1 1 1 1 1 1 1 1 1 1 1]\n"
     ]
    }
   ],
   "source": [
    "print(labels)"
   ]
  },
  {
   "cell_type": "code",
   "execution_count": 13,
   "id": "7727fc2b",
   "metadata": {},
   "outputs": [
    {
     "name": "stdout",
     "output_type": "stream",
     "text": [
      "(340, 4097) (60, 4097) (340,) (60,)\n"
     ]
    }
   ],
   "source": [
    "from sklearn.model_selection import train_test_split\n",
    "\n",
    "xtrain, xtest, ytrain, ytest = train_test_split(data, labels, test_size=0.15, shuffle=True)\n",
    "print(xtrain.shape, xtest.shape, ytrain.shape, ytest.shape)"
   ]
  },
  {
   "cell_type": "code",
   "execution_count": 14,
   "id": "90e2aaf8",
   "metadata": {},
   "outputs": [
    {
     "data": {
      "text/plain": [
       "LinearRegression()"
      ]
     },
     "execution_count": 14,
     "metadata": {},
     "output_type": "execute_result"
    }
   ],
   "source": [
    "clf = LinearRegression()\n",
    "clf.fit(xtrain, ytrain)"
   ]
  },
  {
   "cell_type": "code",
   "execution_count": 15,
   "id": "ddf52a07",
   "metadata": {},
   "outputs": [
    {
     "name": "stdout",
     "output_type": "stream",
     "text": [
      "0.5166666666666667\n"
     ]
    }
   ],
   "source": [
    "from sklearn.metrics import accuracy_score\n",
    "\n",
    "ypred = clf.predict(xtest)\n",
    "ypred = (ypred > 0.5)\n",
    "acc = accuracy_score(ytest, ypred)\n",
    "print(acc)"
   ]
  },
  {
   "cell_type": "code",
   "execution_count": 16,
   "id": "168ec6f4",
   "metadata": {},
   "outputs": [
    {
     "name": "stdout",
     "output_type": "stream",
     "text": [
      "[1.] [0.55009956]\n"
     ]
    },
    {
     "data": {
      "text/plain": [
       "Text(0.5, 1.0, 'Predicted Label: Dog')"
      ]
     },
     "execution_count": 16,
     "metadata": {},
     "output_type": "execute_result"
    },
    {
     "data": {
      "image/png": "[encoded data removed]",
      "text/plain": [
       "<Figure size 432x288 with 2 Axes>"
      ]
     },
     "metadata": {
      "needs_background": "light"
     },
     "output_type": "display_data"
    }
   ],
   "source": [
    "import matplotlib.pyplot as plt\n",
    "\n",
    "image1 = cv2.imread(\"datasets/dogs-vs-cats/dogs/dog.0.jpg\")\n",
    "image11 = cv2.cvtColor(image1, cv2.COLOR_BGR2GRAY)\n",
    "image11 = cv2.resize(image11,(64,64)).flatten()\n",
    "image11 = poly_reg.fit_transform([image11])\n",
    "ypred1 = clf.predict(image11)\n",
    "\n",
    "if ypred1 > 0.5:\n",
    "    label1 = 'Predicted Label: Dog'\n",
    "else:\n",
    "    label1 = 'Predicted Label: Cat'\n",
    "    \n",
    "image2 = cv2.imread(\"datasets/dogs-vs-cats/cats/cat.0.jpg\")\n",
    "image21 = cv2.cvtColor(image2, cv2.COLOR_BGR2GRAY)\n",
    "image21 = cv2.resize(image21,(64,64)).flatten()\n",
    "image21 = poly_reg.fit_transform([image21])\n",
    "    \n",
    "ypred2 = clf.predict([xtest[59]])\n",
    "\n",
    "if ypred2 > 0.5:\n",
    "    label2 = 'Predicted Label: Dog'\n",
    "else:\n",
    "    label2 = 'Predicted Label: Cat'\n",
    "\n",
    "print(ypred1, ypred2)\n",
    "fig = plt.figure()\n",
    "ax = fig.add_subplot(1, 2, 1)\n",
    "plt.imshow(image1)\n",
    "ax.set_title(label1)\n",
    "\n",
    "ax = fig.add_subplot(1, 2, 2)\n",
    "plt.imshow(image2)\n",
    "ax.set_title(label2)"
   ]
  },
  {
   "cell_type": "markdown",
   "id": "4d39e6d5",
   "metadata": {},
   "source": [
    "### Linear Regression for NLP"
   ]
  },
  {
   "cell_type": "code",
   "execution_count": 17,
   "id": "be1cb44a",
   "metadata": {},
   "outputs": [],
   "source": [
    "import os,re\n",
    "import numpy as np\n",
    "from tqdm import tqdm\n",
    "import pandas as pd\n",
    "from sklearn.linear_model import LinearRegression\n",
    "from sklearn.preprocessing import PolynomialFeatures"
   ]
  },
  {
   "cell_type": "code",
   "execution_count": 18,
   "id": "6df1907c",
   "metadata": {},
   "outputs": [
    {
     "data": {
      "text/html": [
       "<div>\n",
       "<style scoped>\n",
       "    .dataframe tbody tr th:only-of-type {\n",
       "        vertical-align: middle;\n",
       "    }\n",
       "\n",
       "    .dataframe tbody tr th {\n",
       "        vertical-align: top;\n",
       "    }\n",
       "\n",
       "    .dataframe thead th {\n",
       "        text-align: right;\n",
       "    }\n",
       "</style>\n",
       "<table border=\"1\" class=\"dataframe\">\n",
       "  <thead>\n",
       "    <tr style=\"text-align: right;\">\n",
       "      <th></th>\n",
       "      <th>Reviews</th>\n",
       "      <th>Sentiment</th>\n",
       "    </tr>\n",
       "  </thead>\n",
       "  <tbody>\n",
       "    <tr>\n",
       "      <th>0</th>\n",
       "      <td>When I first tuned in on this morning news, I ...</td>\n",
       "      <td>negative</td>\n",
       "    </tr>\n",
       "    <tr>\n",
       "      <th>1</th>\n",
       "      <td>Mere thoughts of \"Going Overboard\" (aka \"Babes...</td>\n",
       "      <td>negative</td>\n",
       "    </tr>\n",
       "    <tr>\n",
       "      <th>2</th>\n",
       "      <td>Why does this movie fall WELL below standards?...</td>\n",
       "      <td>negative</td>\n",
       "    </tr>\n",
       "    <tr>\n",
       "      <th>3</th>\n",
       "      <td>Wow and I thought that any Steven Segal movie ...</td>\n",
       "      <td>negative</td>\n",
       "    </tr>\n",
       "    <tr>\n",
       "      <th>4</th>\n",
       "      <td>The story is seen before, but that does'n matt...</td>\n",
       "      <td>negative</td>\n",
       "    </tr>\n",
       "  </tbody>\n",
       "</table>\n",
       "</div>"
      ],
      "text/plain": [
       "                                             Reviews Sentiment\n",
       "0  When I first tuned in on this morning news, I ...  negative\n",
       "1  Mere thoughts of \"Going Overboard\" (aka \"Babes...  negative\n",
       "2  Why does this movie fall WELL below standards?...  negative\n",
       "3  Wow and I thought that any Steven Segal movie ...  negative\n",
       "4  The story is seen before, but that does'n matt...  negative"
      ]
     },
     "execution_count": 18,
     "metadata": {},
     "output_type": "execute_result"
    }
   ],
   "source": [
    "df = pd.read_excel(\"datasets/movie_review.xlsx\")\n",
    "df.head()"
   ]
  },
  {
   "cell_type": "code",
   "execution_count": 19,
   "id": "25ea9282",
   "metadata": {},
   "outputs": [],
   "source": [
    "X = df[\"Reviews\"][:1200]\n",
    "y = df[\"Sentiment\"][:1200]"
   ]
  },
  {
   "cell_type": "code",
   "execution_count": 20,
   "id": "fc913912",
   "metadata": {},
   "outputs": [],
   "source": [
    "from sklearn.preprocessing import LabelEncoder\n",
    "le = LabelEncoder()\n",
    "y = le.fit_transform(y)"
   ]
  },
  {
   "cell_type": "code",
   "execution_count": 21,
   "id": "e1e51f98",
   "metadata": {},
   "outputs": [
    {
     "name": "stdout",
     "output_type": "stream",
     "text": [
      "No. of Positive Reviews : 611\n",
      "No. of Negative Reviews : 589\n"
     ]
    }
   ],
   "source": [
    "print(f\"No. of Positive Reviews : {sum(y)}\")\n",
    "print(f\"No. of Negative Reviews : {len(y) - sum(y)}\")"
   ]
  },
  {
   "cell_type": "code",
   "execution_count": 22,
   "id": "c62c224e",
   "metadata": {},
   "outputs": [
    {
     "name": "stderr",
     "output_type": "stream",
     "text": [
      "<ipython-input-22-5e91e33c57df>:4: FutureWarning: Possible nested set at position 1\n",
      "  text = re.sub(r'[[]]', ' ', text)\n"
     ]
    }
   ],
   "source": [
    "data_list = []\n",
    "for text in X:\n",
    "        text = re.sub(r'[!@#$(),n\"%^*?:;~`0-9]', ' ', text)\n",
    "        text = re.sub(r'[[]]', ' ', text)\n",
    "        text = text.lower()\n",
    "        data_list.append(text)"
   ]
  },
  {
   "cell_type": "code",
   "execution_count": 23,
   "id": "72336e53",
   "metadata": {},
   "outputs": [
    {
     "data": {
      "text/plain": [
       "(1200, 16707)"
      ]
     },
     "execution_count": 23,
     "metadata": {},
     "output_type": "execute_result"
    }
   ],
   "source": [
    "from sklearn.feature_extraction.text import CountVectorizer\n",
    "\n",
    "cv = CountVectorizer()\n",
    "X = cv.fit_transform(data_list).toarray()\n",
    "X.shape "
   ]
  },
  {
   "cell_type": "code",
   "execution_count": 24,
   "id": "9561b003",
   "metadata": {},
   "outputs": [],
   "source": [
    "poly_reg = PolynomialFeatures(degree=1)\n",
    "X = poly_reg.fit_transform(X)"
   ]
  },
  {
   "cell_type": "code",
   "execution_count": 25,
   "id": "2244bdfa",
   "metadata": {},
   "outputs": [],
   "source": [
    "from sklearn.model_selection import train_test_split\n",
    "x_train, x_test, y_train, y_test = train_test_split(X, y, test_size = 0.25)"
   ]
  },
  {
   "cell_type": "code",
   "execution_count": 26,
   "id": "a0866a1d",
   "metadata": {},
   "outputs": [
    {
     "data": {
      "text/plain": [
       "LinearRegression()"
      ]
     },
     "execution_count": 26,
     "metadata": {},
     "output_type": "execute_result"
    }
   ],
   "source": [
    "model = LinearRegression()\n",
    "model.fit(x_train, y_train)"
   ]
  },
  {
   "cell_type": "code",
   "execution_count": 27,
   "id": "b9b12411",
   "metadata": {},
   "outputs": [],
   "source": [
    "y_pred = model.predict(x_test)"
   ]
  },
  {
   "cell_type": "code",
   "execution_count": 28,
   "id": "2bd1f2b3",
   "metadata": {},
   "outputs": [
    {
     "name": "stdout",
     "output_type": "stream",
     "text": [
      "Accuracy is : 0.7666666666666667\n"
     ]
    }
   ],
   "source": [
    "from sklearn.metrics import accuracy_score, confusion_matrix, classification_report\n",
    "\n",
    "y_pred = (y_pred > 0.5)\n",
    "ac = accuracy_score(y_test, y_pred)\n",
    "cm = confusion_matrix(y_test, y_pred)\n",
    "\n",
    "print(\"Accuracy is :\",ac)"
   ]
  },
  {
   "cell_type": "code",
   "execution_count": 29,
   "id": "288690f2",
   "metadata": {},
   "outputs": [],
   "source": [
    "def text_pred(text):\n",
    "    text = cv.transform([text]).toarray()\n",
    "    text = poly_reg.fit_transform(text)\n",
    "    pred = model.predict(text)\n",
    "    preds = 0\n",
    "    if pred > 0.53:\n",
    "        preds = 1\n",
    "    print(pred)\n",
    "    label = le.inverse_transform([preds])[0]\n",
    "    return label"
   ]
  },
  {
   "cell_type": "code",
   "execution_count": 30,
   "id": "6b3f25af",
   "metadata": {},
   "outputs": [
    {
     "name": "stdout",
     "output_type": "stream",
     "text": [
      "[0.49514012]\n"
     ]
    },
    {
     "data": {
      "text/plain": [
       "'negative'"
      ]
     },
     "execution_count": 30,
     "metadata": {},
     "output_type": "execute_result"
    }
   ],
   "source": [
    "text_pred(\"This movie sucks and the plot twist was already known\")"
   ]
  },
  {
   "cell_type": "code",
   "execution_count": 31,
   "id": "8e7954b1",
   "metadata": {},
   "outputs": [
    {
     "name": "stdout",
     "output_type": "stream",
     "text": [
      "[0.56433565]\n"
     ]
    },
    {
     "data": {
      "text/plain": [
       "'positive'"
      ]
     },
     "execution_count": 31,
     "metadata": {},
     "output_type": "execute_result"
    }
   ],
   "source": [
    "text_pred(\"Nice movie and the actions are so good\")"
   ]
  },
  {
   "cell_type": "code",
   "execution_count": null,
   "id": "ad372be0",
   "metadata": {},
   "outputs": [],
   "source": []
  }
 ],
 "metadata": {
  "kernelspec": {
   "display_name": "Python 3",
   "language": "python",
   "name": "python3"
  },
  "language_info": {
   "codemirror_mode": {
    "name": "ipython",
    "version": 3
   },
   "file_extension": ".py",
   "mimetype": "text/x-python",
   "name": "python",
   "nbconvert_exporter": "python",
   "pygments_lexer": "ipython3",
   "version": "3.8.8"
  }
 },
 "nbformat": 4,
 "nbformat_minor": 5
}
